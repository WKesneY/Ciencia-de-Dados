{
 "cells": [
  {
   "cell_type": "code",
   "execution_count": 3,
   "id": "0e0f681e",
   "metadata": {},
   "outputs": [
    {
     "data": {
      "text/plain": [
       "<bound method NDFrame.head of       UF  CODIGO_MUNICIPIO            NOME_MUNICIPIO  DIA  MES\n",
       "0     AM            130080                     Borba    1    1\n",
       "1     PA            150611                 Quatipuru    1    1\n",
       "2     PA            150796                Terra Alta    1    1\n",
       "3     TO            170770                Filadélfia    1    1\n",
       "4     TO            171370  Monte Santo do Tocantins    1    1\n",
       "...   ..               ...                       ...  ...  ...\n",
       "5565  SP            350090                    Altair   31   12\n",
       "5566  SC            420550                 Fraiburgo   31   12\n",
       "5567  SC            420990                   Lontras   31   12\n",
       "5568  RS            430045                   Alegria   31   12\n",
       "5569  MT            510140                  Aripuanã   31   12\n",
       "\n",
       "[5570 rows x 5 columns]>"
      ]
     },
     "execution_count": 3,
     "metadata": {},
     "output_type": "execute_result"
    }
   ],
   "source": [
    "from pathlib import Path\n",
    "import pandas as pd\n",
    "\n",
    "path_aniversarios = Path(r'C:\\Users\\Wildn\\OneDrive\\Área de Trabalho\\Ciencia de Dados\\data\\raw')\n",
    "aniversarios_arquivo = 'aniversariantes.csv'\n",
    "\n",
    "caminho_completo = path_aniversarios / aniversarios_arquivo\n",
    "\n",
    "df = pd.read_csv(caminho_completo)\n",
    "\n",
    "df.head\n"
   ]
  },
  {
   "cell_type": "code",
   "execution_count": 2,
   "id": "79824d4b",
   "metadata": {},
   "outputs": [
    {
     "name": "stdout",
     "output_type": "stream",
     "text": [
      "O conjunto de dados possui 5570 amostras (linhas) e 5 atributos (colunas).\n",
      "\n",
      "==============================\n",
      "\n",
      "1. Tipos de Dados e Contagem de Não-Nulos:\n",
      "<class 'pandas.core.frame.DataFrame'>\n",
      "RangeIndex: 5570 entries, 0 to 5569\n",
      "Data columns (total 5 columns):\n",
      " #   Column            Non-Null Count  Dtype \n",
      "---  ------            --------------  ----- \n",
      " 0   UF                5570 non-null   object\n",
      " 1   CODIGO_MUNICIPIO  5570 non-null   int64 \n",
      " 2   NOME_MUNICIPIO    5570 non-null   object\n",
      " 3   DIA               5570 non-null   int64 \n",
      " 4   MES               5570 non-null   int64 \n",
      "dtypes: int64(3), object(2)\n",
      "memory usage: 217.7+ KB\n",
      "\n",
      "==============================\n",
      "\n",
      "2. Estatísticas Descritivas:\n",
      "       CODIGO_MUNICIPIO          DIA          MES\n",
      "count       5570.000000  5570.000000  5570.000000\n",
      "mean      325358.627828    16.261759     7.142908\n",
      "std        98491.033878     8.982919     3.611703\n",
      "min       110001.000000     1.000000     1.000000\n",
      "25%       251212.500000    10.000000     4.000000\n",
      "50%       314627.500000    16.000000     7.000000\n",
      "75%       411918.750000    24.000000    11.000000\n",
      "max       530010.000000    31.000000    12.000000\n",
      "\n",
      "==============================\n",
      "\n",
      "3. Contagem de Valores Faltantes (df.isna().sum()):\n",
      "UF                  0\n",
      "CODIGO_MUNICIPIO    0\n",
      "NOME_MUNICIPIO      0\n",
      "DIA                 0\n",
      "MES                 0\n",
      "dtype: int64\n"
     ]
    }
   ],
   "source": [
    "print(f\"O conjunto de dados possui {df.shape[0]} amostras (linhas) e {df.shape[1]} atributos (colunas).\") \n",
    "print(\"\\n\" + \"=\"*30 + \"\\n\")\n",
    "\n",
    "print(\"1. Tipos de Dados e Contagem de Não-Nulos:\")\n",
    "df.info()\n",
    "\n",
    "print(\"\\n\" + \"=\"*30 + \"\\n\")\n",
    "\n",
    "print(\"2. Estatísticas Descritivas:\")\n",
    "print(df.describe())\n",
    "\n",
    "print(\"\\n\" + \"=\"*30 + \"\\n\")\n",
    "\n",
    "print(\"3. Contagem de Valores Faltantes (df.isna().sum()):\")\n",
    "print(df.isna().sum())"
   ]
  }
 ],
 "metadata": {
  "kernelspec": {
   "display_name": "Python 3",
   "language": "python",
   "name": "python3"
  },
  "language_info": {
   "codemirror_mode": {
    "name": "ipython",
    "version": 3
   },
   "file_extension": ".py",
   "mimetype": "text/x-python",
   "name": "python",
   "nbconvert_exporter": "python",
   "pygments_lexer": "ipython3",
   "version": "3.13.0"
  }
 },
 "nbformat": 4,
 "nbformat_minor": 5
}
